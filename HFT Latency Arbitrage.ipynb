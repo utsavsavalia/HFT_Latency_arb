{
 "cells": [
  {
   "cell_type": "markdown",
   "id": "81c87842",
   "metadata": {},
   "source": [
    "HFT Latency Arbitrage"
   ]
  },
  {
   "cell_type": "markdown",
   "id": "11a55580",
   "metadata": {},
   "source": [
    "In this project, we're going to test out a HFT latency arbitrage taker strategy similar to ones used at high frequency trading firms, using one asset to predict the movements of a similar, correlated one\n",
    "\n",
    "**Learning Objectives:**\n",
    "\n",
    "- Reconstruct an orderbook\n",
    "- Implement a basic trade simulator given a hypothetical trade and orderbook data\n",
    "- Create Book Pressure signals for the perp and spot asset\n",
    "- Use the leading asset to predict the lagging asset and execute hypothetical trades\n"
   ]
  },
  {
   "cell_type": "markdown",
   "id": "8d4aed09",
   "metadata": {},
   "source": [
    "## Importing Libraries"
   ]
  },
  {
   "cell_type": "code",
   "execution_count": 2,
   "id": "72e82b48",
   "metadata": {},
   "outputs": [],
   "source": [
    "from tardis_dev import datasets\n",
    "import pandas as pd\n",
    "import numpy as np\n",
    "import warnings\n",
    "import matplotlib.pyplot as plt\n",
    "warnings.filterwarnings('ignore')"
   ]
  },
  {
   "cell_type": "markdown",
   "id": "89e27bd5",
   "metadata": {},
   "source": [
    "## Importing Orderbook Data"
   ]
  },
  {
   "cell_type": "code",
   "execution_count": 3,
   "id": "f0104312",
   "metadata": {},
   "outputs": [],
   "source": [
    "import nest_asyncio\n",
    "\n",
    "nest_asyncio.apply()\n",
    "datasets.download(\n",
    "    exchange=\"binance-futures\",\n",
    "    data_types=[\n",
    "        \"incremental_book_L2\",\n",
    "        #\"trades\",\n",
    "        #\"quotes\",\n",
    "        #\"derivative_ticker\",\n",
    "        #\"book_snapshot_25\",\n",
    "        #\"liquidations\"\n",
    "    ],\n",
    "    from_date=f\"2023-02-01T00:00:00Z\",\n",
    "    to_date=f\"2023-02-01T23:59:59Z\",\n",
    "    symbols=['BTCUSDT'],\n",
    "    api_key='',\n",
    ")\n",
    "\n",
    "nest_asyncio.apply()\n",
    "datasets.download(\n",
    "    exchange=\"binance\",\n",
    "    data_types=[\n",
    "        \"incremental_book_L2\",\n",
    "        #\"trades\",\n",
    "        #\"quotes\",\n",
    "        #\"derivative_ticker\",\n",
    "        #\"book_snapshot_25\",\n",
    "        #\"liquidations\"\n",
    "    ],\n",
    "    from_date=f\"2023-02-01T00:00:00Z\",\n",
    "    to_date=f\"2023-02-01T23:59:59Z\",\n",
    "    symbols=['BTCUSDT'],\n",
    "    api_key='',\n",
    ")\n",
    "\n",
    "nest_asyncio.apply()\n",
    "datasets.download(\n",
    "    exchange=\"binance-futures\",\n",
    "    data_types=[\n",
    "        #\"incremental_book_L2\",\n",
    "        #\"trades\",\n",
    "        \"quotes\",\n",
    "        #\"derivative_ticker\",\n",
    "        #\"book_snapshot_25\",\n",
    "        #\"liquidations\"\n",
    "    ],\n",
    "    from_date=f\"2023-02-01T00:00:00Z\",\n",
    "    to_date=f\"2023-02-01T23:59:59Z\",\n",
    "    symbols=['BTCUSDT'],\n",
    "    api_key='',\n",
    ")\n",
    "\n",
    "nest_asyncio.apply()\n",
    "datasets.download(\n",
    "    exchange=\"binance\",\n",
    "    data_types=[\n",
    "        #\"incremental_book_L2\",\n",
    "        #\"trades\",\n",
    "        \"quotes\",\n",
    "        #\"derivative_ticker\",\n",
    "        #\"book_snapshot_25\",\n",
    "        #\"liquidations\"\n",
    "    ],\n",
    "    from_date=f\"2023-02-01T00:00:00Z\",\n",
    "    to_date=f\"2023-02-01T23:59:59Z\",\n",
    "    symbols=['BTCUSDT'],\n",
    "    api_key='',\n",
    ")\n",
    "\n",
    "fname_spotquotes = 'binance_quotes_2023-02-01_BTCUSDT.csv.gz'\n",
    "fname_perpquotes = 'binance-futures_quotes_2023-02-01_BTCUSDT.csv.gz'\n",
    "fname_perp = 'binance-futures_incremental_book_L2_2023-02-01_BTCUSDT.csv.gz'\n",
    "fname_spot = 'binance_incremental_book_L2_2023-02-01_BTCUSDT.csv.gz'"
   ]
  },
  {
   "cell_type": "markdown",
   "id": "6ff7e3cb",
   "metadata": {},
   "source": [
    "## Read In Data"
   ]
  },
  {
   "cell_type": "markdown",
   "id": "aaaba8ff",
   "metadata": {},
   "source": [
    "this should take a while do not worry"
   ]
  },
  {
   "cell_type": "code",
   "execution_count": 4,
   "id": "47fb1479",
   "metadata": {},
   "outputs": [],
   "source": [
    "perpbook = pd.read_csv(f'datasets/{fname_perp}', compression='gzip')\n",
    "spotbook = pd.read_csv(f'datasets/{fname_spot}', compression='gzip')"
   ]
  },
  {
   "cell_type": "code",
   "execution_count": 5,
   "id": "64f44589",
   "metadata": {},
   "outputs": [],
   "source": [
    "perpquotes = pd.read_csv(f'datasets/{fname_perpquotes}', compression='gzip')\n",
    "spotquotes = pd.read_csv(f'datasets/{fname_spotquotes}', compression='gzip')"
   ]
  },
  {
   "cell_type": "code",
   "execution_count": 6,
   "id": "727338b9",
   "metadata": {},
   "outputs": [
    {
     "data": {
      "text/html": [
       "<div>\n",
       "<style scoped>\n",
       "    .dataframe tbody tr th:only-of-type {\n",
       "        vertical-align: middle;\n",
       "    }\n",
       "\n",
       "    .dataframe tbody tr th {\n",
       "        vertical-align: top;\n",
       "    }\n",
       "\n",
       "    .dataframe thead th {\n",
       "        text-align: right;\n",
       "    }\n",
       "</style>\n",
       "<table border=\"1\" class=\"dataframe\">\n",
       "  <thead>\n",
       "    <tr style=\"text-align: right;\">\n",
       "      <th></th>\n",
       "      <th>exchange</th>\n",
       "      <th>symbol</th>\n",
       "      <th>timestamp</th>\n",
       "      <th>local_timestamp</th>\n",
       "      <th>ask_amount</th>\n",
       "      <th>ask_price</th>\n",
       "      <th>bid_price</th>\n",
       "      <th>bid_amount</th>\n",
       "    </tr>\n",
       "  </thead>\n",
       "  <tbody>\n",
       "    <tr>\n",
       "      <th>0</th>\n",
       "      <td>binance</td>\n",
       "      <td>BTCUSDT</td>\n",
       "      <td>1675209602162275</td>\n",
       "      <td>1675209602162275</td>\n",
       "      <td>0.00066</td>\n",
       "      <td>23126.52</td>\n",
       "      <td>23126.20</td>\n",
       "      <td>0.03000</td>\n",
       "    </tr>\n",
       "    <tr>\n",
       "      <th>1</th>\n",
       "      <td>binance</td>\n",
       "      <td>BTCUSDT</td>\n",
       "      <td>1675209602181000</td>\n",
       "      <td>1675209602186622</td>\n",
       "      <td>0.04320</td>\n",
       "      <td>23127.58</td>\n",
       "      <td>23126.11</td>\n",
       "      <td>0.05807</td>\n",
       "    </tr>\n",
       "    <tr>\n",
       "      <th>2</th>\n",
       "      <td>binance</td>\n",
       "      <td>BTCUSDT</td>\n",
       "      <td>1675209602281000</td>\n",
       "      <td>1675209602284878</td>\n",
       "      <td>0.00108</td>\n",
       "      <td>23127.57</td>\n",
       "      <td>23126.67</td>\n",
       "      <td>0.03703</td>\n",
       "    </tr>\n",
       "    <tr>\n",
       "      <th>3</th>\n",
       "      <td>binance</td>\n",
       "      <td>BTCUSDT</td>\n",
       "      <td>1675209602382000</td>\n",
       "      <td>1675209602386776</td>\n",
       "      <td>0.02709</td>\n",
       "      <td>23127.58</td>\n",
       "      <td>23126.75</td>\n",
       "      <td>0.05807</td>\n",
       "    </tr>\n",
       "    <tr>\n",
       "      <th>4</th>\n",
       "      <td>binance</td>\n",
       "      <td>BTCUSDT</td>\n",
       "      <td>1675209602482000</td>\n",
       "      <td>1675209602489723</td>\n",
       "      <td>0.06238</td>\n",
       "      <td>23127.50</td>\n",
       "      <td>23126.60</td>\n",
       "      <td>0.05807</td>\n",
       "    </tr>\n",
       "    <tr>\n",
       "      <th>...</th>\n",
       "      <td>...</td>\n",
       "      <td>...</td>\n",
       "      <td>...</td>\n",
       "      <td>...</td>\n",
       "      <td>...</td>\n",
       "      <td>...</td>\n",
       "      <td>...</td>\n",
       "      <td>...</td>\n",
       "    </tr>\n",
       "    <tr>\n",
       "      <th>789857</th>\n",
       "      <td>binance</td>\n",
       "      <td>BTCUSDT</td>\n",
       "      <td>1675295999546000</td>\n",
       "      <td>1675295999550352</td>\n",
       "      <td>0.12978</td>\n",
       "      <td>23731.29</td>\n",
       "      <td>23729.77</td>\n",
       "      <td>0.12978</td>\n",
       "    </tr>\n",
       "    <tr>\n",
       "      <th>789858</th>\n",
       "      <td>binance</td>\n",
       "      <td>BTCUSDT</td>\n",
       "      <td>1675295999646000</td>\n",
       "      <td>1675295999651134</td>\n",
       "      <td>0.00338</td>\n",
       "      <td>23732.30</td>\n",
       "      <td>23731.30</td>\n",
       "      <td>0.01532</td>\n",
       "    </tr>\n",
       "    <tr>\n",
       "      <th>789859</th>\n",
       "      <td>binance</td>\n",
       "      <td>BTCUSDT</td>\n",
       "      <td>1675295999746000</td>\n",
       "      <td>1675295999750154</td>\n",
       "      <td>0.00210</td>\n",
       "      <td>23731.91</td>\n",
       "      <td>23731.30</td>\n",
       "      <td>0.00451</td>\n",
       "    </tr>\n",
       "    <tr>\n",
       "      <th>789860</th>\n",
       "      <td>binance</td>\n",
       "      <td>BTCUSDT</td>\n",
       "      <td>1675295999846000</td>\n",
       "      <td>1675295999850848</td>\n",
       "      <td>0.00283</td>\n",
       "      <td>23732.40</td>\n",
       "      <td>23730.95</td>\n",
       "      <td>0.25956</td>\n",
       "    </tr>\n",
       "    <tr>\n",
       "      <th>789861</th>\n",
       "      <td>binance</td>\n",
       "      <td>BTCUSDT</td>\n",
       "      <td>1675295999946000</td>\n",
       "      <td>1675295999949158</td>\n",
       "      <td>0.00283</td>\n",
       "      <td>23732.40</td>\n",
       "      <td>23731.40</td>\n",
       "      <td>0.00064</td>\n",
       "    </tr>\n",
       "  </tbody>\n",
       "</table>\n",
       "<p>789862 rows × 8 columns</p>\n",
       "</div>"
      ],
      "text/plain": [
       "       exchange   symbol         timestamp   local_timestamp  ask_amount   \n",
       "0       binance  BTCUSDT  1675209602162275  1675209602162275     0.00066  \\\n",
       "1       binance  BTCUSDT  1675209602181000  1675209602186622     0.04320   \n",
       "2       binance  BTCUSDT  1675209602281000  1675209602284878     0.00108   \n",
       "3       binance  BTCUSDT  1675209602382000  1675209602386776     0.02709   \n",
       "4       binance  BTCUSDT  1675209602482000  1675209602489723     0.06238   \n",
       "...         ...      ...               ...               ...         ...   \n",
       "789857  binance  BTCUSDT  1675295999546000  1675295999550352     0.12978   \n",
       "789858  binance  BTCUSDT  1675295999646000  1675295999651134     0.00338   \n",
       "789859  binance  BTCUSDT  1675295999746000  1675295999750154     0.00210   \n",
       "789860  binance  BTCUSDT  1675295999846000  1675295999850848     0.00283   \n",
       "789861  binance  BTCUSDT  1675295999946000  1675295999949158     0.00283   \n",
       "\n",
       "        ask_price  bid_price  bid_amount  \n",
       "0        23126.52   23126.20     0.03000  \n",
       "1        23127.58   23126.11     0.05807  \n",
       "2        23127.57   23126.67     0.03703  \n",
       "3        23127.58   23126.75     0.05807  \n",
       "4        23127.50   23126.60     0.05807  \n",
       "...           ...        ...         ...  \n",
       "789857   23731.29   23729.77     0.12978  \n",
       "789858   23732.30   23731.30     0.01532  \n",
       "789859   23731.91   23731.30     0.00451  \n",
       "789860   23732.40   23730.95     0.25956  \n",
       "789861   23732.40   23731.40     0.00064  \n",
       "\n",
       "[789862 rows x 8 columns]"
      ]
     },
     "execution_count": 6,
     "metadata": {},
     "output_type": "execute_result"
    }
   ],
   "source": [
    "spotquotes"
   ]
  },
  {
   "cell_type": "markdown",
   "id": "0dec41fc",
   "metadata": {},
   "source": [
    "## Reconstruct Orderbook at Given Time"
   ]
  },
  {
   "cell_type": "markdown",
   "id": "5215cbce",
   "metadata": {},
   "source": [
    "\n",
    "A function to return a dataframe representing all price levels with a nonzero quantity at each level."
   ]
  },
  {
   "cell_type": "code",
   "execution_count": 7,
   "id": "d2e5b420",
   "metadata": {
    "tags": []
   },
   "outputs": [
    {
     "data": {
      "text/html": [
       "<div>\n",
       "<style scoped>\n",
       "    .dataframe tbody tr th:only-of-type {\n",
       "        vertical-align: middle;\n",
       "    }\n",
       "\n",
       "    .dataframe tbody tr th {\n",
       "        vertical-align: top;\n",
       "    }\n",
       "\n",
       "    .dataframe thead th {\n",
       "        text-align: right;\n",
       "    }\n",
       "</style>\n",
       "<table border=\"1\" class=\"dataframe\">\n",
       "  <thead>\n",
       "    <tr style=\"text-align: right;\">\n",
       "      <th></th>\n",
       "      <th>exchange</th>\n",
       "      <th>symbol</th>\n",
       "      <th>timestamp</th>\n",
       "      <th>local_timestamp</th>\n",
       "      <th>is_snapshot</th>\n",
       "      <th>side</th>\n",
       "      <th>price</th>\n",
       "      <th>amount</th>\n",
       "    </tr>\n",
       "  </thead>\n",
       "  <tbody>\n",
       "    <tr>\n",
       "      <th>1076</th>\n",
       "      <td>binance</td>\n",
       "      <td>BTCUSDT</td>\n",
       "      <td>1675209602162275</td>\n",
       "      <td>1675209602162275</td>\n",
       "      <td>True</td>\n",
       "      <td>ask</td>\n",
       "      <td>23535.00</td>\n",
       "      <td>0.17112</td>\n",
       "    </tr>\n",
       "    <tr>\n",
       "      <th>1030</th>\n",
       "      <td>binance</td>\n",
       "      <td>BTCUSDT</td>\n",
       "      <td>1675209602162275</td>\n",
       "      <td>1675209602162275</td>\n",
       "      <td>True</td>\n",
       "      <td>ask</td>\n",
       "      <td>23300.69</td>\n",
       "      <td>0.00497</td>\n",
       "    </tr>\n",
       "    <tr>\n",
       "      <th>999</th>\n",
       "      <td>binance</td>\n",
       "      <td>BTCUSDT</td>\n",
       "      <td>1675209602162275</td>\n",
       "      <td>1675209602162275</td>\n",
       "      <td>True</td>\n",
       "      <td>ask</td>\n",
       "      <td>23186.92</td>\n",
       "      <td>0.02546</td>\n",
       "    </tr>\n",
       "    <tr>\n",
       "      <th>998</th>\n",
       "      <td>binance</td>\n",
       "      <td>BTCUSDT</td>\n",
       "      <td>1675209602162275</td>\n",
       "      <td>1675209602162275</td>\n",
       "      <td>True</td>\n",
       "      <td>ask</td>\n",
       "      <td>23186.89</td>\n",
       "      <td>0.00075</td>\n",
       "    </tr>\n",
       "    <tr>\n",
       "      <th>997</th>\n",
       "      <td>binance</td>\n",
       "      <td>BTCUSDT</td>\n",
       "      <td>1675209602162275</td>\n",
       "      <td>1675209602162275</td>\n",
       "      <td>True</td>\n",
       "      <td>ask</td>\n",
       "      <td>23186.88</td>\n",
       "      <td>0.00067</td>\n",
       "    </tr>\n",
       "    <tr>\n",
       "      <th>...</th>\n",
       "      <td>...</td>\n",
       "      <td>...</td>\n",
       "      <td>...</td>\n",
       "      <td>...</td>\n",
       "      <td>...</td>\n",
       "      <td>...</td>\n",
       "      <td>...</td>\n",
       "      <td>...</td>\n",
       "    </tr>\n",
       "    <tr>\n",
       "      <th>2110</th>\n",
       "      <td>binance</td>\n",
       "      <td>BTCUSDT</td>\n",
       "      <td>1675209602162275</td>\n",
       "      <td>1675209602162275</td>\n",
       "      <td>True</td>\n",
       "      <td>bid</td>\n",
       "      <td>22671.10</td>\n",
       "      <td>0.00048</td>\n",
       "    </tr>\n",
       "    <tr>\n",
       "      <th>2154</th>\n",
       "      <td>binance</td>\n",
       "      <td>BTCUSDT</td>\n",
       "      <td>1675209602162275</td>\n",
       "      <td>1675209602162275</td>\n",
       "      <td>True</td>\n",
       "      <td>bid</td>\n",
       "      <td>21500.00</td>\n",
       "      <td>177.17283</td>\n",
       "    </tr>\n",
       "    <tr>\n",
       "      <th>2089</th>\n",
       "      <td>binance</td>\n",
       "      <td>BTCUSDT</td>\n",
       "      <td>1675209602162275</td>\n",
       "      <td>1675209602162275</td>\n",
       "      <td>True</td>\n",
       "      <td>bid</td>\n",
       "      <td>20888.00</td>\n",
       "      <td>27.42850</td>\n",
       "    </tr>\n",
       "    <tr>\n",
       "      <th>2182</th>\n",
       "      <td>binance</td>\n",
       "      <td>BTCUSDT</td>\n",
       "      <td>1675209602162275</td>\n",
       "      <td>1675209602162275</td>\n",
       "      <td>True</td>\n",
       "      <td>bid</td>\n",
       "      <td>11563.19</td>\n",
       "      <td>0.00103</td>\n",
       "    </tr>\n",
       "    <tr>\n",
       "      <th>2135</th>\n",
       "      <td>binance</td>\n",
       "      <td>BTCUSDT</td>\n",
       "      <td>1675209602162275</td>\n",
       "      <td>1675209602162275</td>\n",
       "      <td>True</td>\n",
       "      <td>bid</td>\n",
       "      <td>8325.58</td>\n",
       "      <td>0.00144</td>\n",
       "    </tr>\n",
       "  </tbody>\n",
       "</table>\n",
       "<p>2038 rows × 8 columns</p>\n",
       "</div>"
      ],
      "text/plain": [
       "     exchange   symbol         timestamp   local_timestamp  is_snapshot side   \n",
       "1076  binance  BTCUSDT  1675209602162275  1675209602162275         True  ask  \\\n",
       "1030  binance  BTCUSDT  1675209602162275  1675209602162275         True  ask   \n",
       "999   binance  BTCUSDT  1675209602162275  1675209602162275         True  ask   \n",
       "998   binance  BTCUSDT  1675209602162275  1675209602162275         True  ask   \n",
       "997   binance  BTCUSDT  1675209602162275  1675209602162275         True  ask   \n",
       "...       ...      ...               ...               ...          ...  ...   \n",
       "2110  binance  BTCUSDT  1675209602162275  1675209602162275         True  bid   \n",
       "2154  binance  BTCUSDT  1675209602162275  1675209602162275         True  bid   \n",
       "2089  binance  BTCUSDT  1675209602162275  1675209602162275         True  bid   \n",
       "2182  binance  BTCUSDT  1675209602162275  1675209602162275         True  bid   \n",
       "2135  binance  BTCUSDT  1675209602162275  1675209602162275         True  bid   \n",
       "\n",
       "         price     amount  \n",
       "1076  23535.00    0.17112  \n",
       "1030  23300.69    0.00497  \n",
       "999   23186.92    0.02546  \n",
       "998   23186.89    0.00075  \n",
       "997   23186.88    0.00067  \n",
       "...        ...        ...  \n",
       "2110  22671.10    0.00048  \n",
       "2154  21500.00  177.17283  \n",
       "2089  20888.00   27.42850  \n",
       "2182  11563.19    0.00103  \n",
       "2135   8325.58    0.00144  \n",
       "\n",
       "[2038 rows x 8 columns]"
      ]
     },
     "execution_count": 7,
     "metadata": {},
     "output_type": "execute_result"
    }
   ],
   "source": [
    "def bookstate(book, snaptime):\n",
    "    snapts = pd.to_datetime(snaptime).timestamp()*1000000\n",
    "    if snapts < book['timestamp'].values[0]:\n",
    "        snapts = book['timestamp'].values[0]\n",
    "    book = book[book['timestamp'] <= snapts]\n",
    "    book = book.sort_values(['price', 'timestamp'], ascending=False).groupby('price').head(1)\n",
    "    # note that groupby.head preserves the index of the initial dataframe, and results in unintended behavior\n",
    "    book = book[book['amount'] > 0.00]\n",
    "    \n",
    "    return book\n",
    "bookstate(spotbook, 1675227824977135)"
   ]
  },
  {
   "cell_type": "markdown",
   "id": "213ad479",
   "metadata": {},
   "source": [
    "## Trade Simulator"
   ]
  },
  {
   "cell_type": "markdown",
   "id": "6f8b2844",
   "metadata": {},
   "source": [
    "Now that we have a snapshot of an orderbook, let's see if we can simulate what would happen to that orderbook if we were to execute a trade\n",
    "\n",
    "Given a notional size to trade (asset amount in USD value) and a theoretical value: return the average fill price of the trade, and the quantity transacted. \n",
    "\n",
    "Assume that you have no market impact, and that the book remains the same until your order is filled (add a written q later, smth like: is this a fair assumption?)\n",
    "\n",
    "(Should you trade at your theoretical value?)"
   ]
  },
  {
   "cell_type": "code",
   "execution_count": 9,
   "id": "74baf3a3",
   "metadata": {
    "tags": []
   },
   "outputs": [],
   "source": [
    "# curr_state = bookstate(perpbook, 1675227824977135)\n",
    "# tradeside_book = curr_state[curr_state['side'] == 'bid']\n",
    "# print(tradeside_book)\n",
    "# print(np.mean(tradeside_book['price']))\n",
    "\n",
    "def trade_simulator(state, tradeside='ask', tradesize=10000, theoreticalvalue=0):\n",
    "    curr_state = state[state['side'] == tradeside]\n",
    "\n",
    "    our_trades = curr_state[curr_state['amount'] == (theoreticalvalue/tradesize)]\n",
    "\n",
    "    # tradeside_book = curr_state[curr_state['side'] == 'bid')\n",
    "    avgfill = np.mean(our_trades['price'])\n",
    "    tradefilled = our_trades['price'][1]\n",
    "    return [avgfill, tradefilled]\n"
   ]
  },
  {
   "cell_type": "markdown",
   "id": "ca3a0809",
   "metadata": {},
   "source": [
    "## Book Pressure Signal Explanation"
   ]
  },
  {
   "cell_type": "markdown",
   "id": "5025f61d",
   "metadata": {},
   "source": [
    "Consider an orderbook that looks like the following\n",
    "\n",
    "    Bid Qty  |  Price  |  Offer Qty\n",
    "\n",
    "\n",
    "             |   104   |   370   \n",
    "             |   103   |   200   \n",
    "      100    |   102   |         \n",
    "      150    |   101   |         "
   ]
  },
  {
   "cell_type": "markdown",
   "id": "1fd00ae1",
   "metadata": {},
   "source": [
    "Would the book tick up first? Or down first?\n",
    "\n",
    "What might we think the theoretical 'fair' price is in this market?"
   ]
  },
  {
   "cell_type": "markdown",
   "id": "6056405c",
   "metadata": {},
   "source": [
    "The first observation we might make is that there's more (twice as much) demand at the best offer than at the best bid. \n",
    "\n",
    "If we assume that market buys and market sells arrive roughly with even probability/size, then we'd expect that the best bid would be exhausted before the best offer twice as often than the best offer would be exhausted before the best bid"
   ]
  },
  {
   "cell_type": "markdown",
   "id": "f8a1427f",
   "metadata": {},
   "source": [
    "**Book Pressure** is our expected future fair value derived from this assumption. \n",
    "\n",
    "We can derive the book pressure using this example.\n",
    "\n",
    "We expect that the best bid gets exhausted 2/3 of the time as often as the best offer, so we can write\n",
    "\n",
    "$\\text{E(future price)} = \\text{P}(\\text{best bid exhausted}) * \\text{best bid price} + \\text{P}(\\text{best ask exhaused}) *\\text{best ask price}$\n",
    "\n",
    "$2/3 * (102) + 1/3 * (103)$\n",
    "\n",
    "$204/3 + 103/3$\n",
    "\n",
    "$307/3$\n",
    "\n",
    "$102.3333$"
   ]
  },
  {
   "cell_type": "markdown",
   "id": "f994744c",
   "metadata": {},
   "source": [
    "The more traditional representation of the formula is as follows:\n",
    "\n",
    "$\\dfrac{\\text{(best bid qty * best offer price) + (best offer qty * best bid price)}}{\\text{best bid qty + best offer qty}}$\n",
    "\n",
    "Plugging in our values from the sample orderbook above, we double check that\n",
    "\n",
    "$\\dfrac{(100 * 103) + (200 * 102)}{{100 + 200}}$\n",
    "\n",
    "$\\dfrac{(10300) + (20400)}{{300}}$\n",
    "\n",
    "$\\dfrac{(30700)}{{300}}$\n",
    "\n",
    "$102.3333$"
   ]
  },
  {
   "cell_type": "markdown",
   "id": "0951e038",
   "metadata": {},
   "source": [
    "## Book Pressure Signal Implementation"
   ]
  },
  {
   "cell_type": "markdown",
   "id": "3280ce0c",
   "metadata": {},
   "source": [
    "Please implement the above formula using the provided quotes dataframe that provides the amounts and price of the best bid and offer"
   ]
  },
  {
   "cell_type": "code",
   "execution_count": 11,
   "id": "b1abf0f6",
   "metadata": {},
   "outputs": [
    {
     "data": {
      "text/html": [
       "<div>\n",
       "<style scoped>\n",
       "    .dataframe tbody tr th:only-of-type {\n",
       "        vertical-align: middle;\n",
       "    }\n",
       "\n",
       "    .dataframe tbody tr th {\n",
       "        vertical-align: top;\n",
       "    }\n",
       "\n",
       "    .dataframe thead th {\n",
       "        text-align: right;\n",
       "    }\n",
       "</style>\n",
       "<table border=\"1\" class=\"dataframe\">\n",
       "  <thead>\n",
       "    <tr style=\"text-align: right;\">\n",
       "      <th></th>\n",
       "      <th>exchange</th>\n",
       "      <th>symbol</th>\n",
       "      <th>timestamp</th>\n",
       "      <th>local_timestamp</th>\n",
       "      <th>ask_amount</th>\n",
       "      <th>ask_price</th>\n",
       "      <th>bid_price</th>\n",
       "      <th>bid_amount</th>\n",
       "    </tr>\n",
       "  </thead>\n",
       "  <tbody>\n",
       "    <tr>\n",
       "      <th>0</th>\n",
       "      <td>binance</td>\n",
       "      <td>BTCUSDT</td>\n",
       "      <td>1675209602162275</td>\n",
       "      <td>1675209602162275</td>\n",
       "      <td>0.00066</td>\n",
       "      <td>23126.52</td>\n",
       "      <td>23126.20</td>\n",
       "      <td>0.03000</td>\n",
       "    </tr>\n",
       "    <tr>\n",
       "      <th>1</th>\n",
       "      <td>binance</td>\n",
       "      <td>BTCUSDT</td>\n",
       "      <td>1675209602181000</td>\n",
       "      <td>1675209602186622</td>\n",
       "      <td>0.04320</td>\n",
       "      <td>23127.58</td>\n",
       "      <td>23126.11</td>\n",
       "      <td>0.05807</td>\n",
       "    </tr>\n",
       "    <tr>\n",
       "      <th>2</th>\n",
       "      <td>binance</td>\n",
       "      <td>BTCUSDT</td>\n",
       "      <td>1675209602281000</td>\n",
       "      <td>1675209602284878</td>\n",
       "      <td>0.00108</td>\n",
       "      <td>23127.57</td>\n",
       "      <td>23126.67</td>\n",
       "      <td>0.03703</td>\n",
       "    </tr>\n",
       "    <tr>\n",
       "      <th>3</th>\n",
       "      <td>binance</td>\n",
       "      <td>BTCUSDT</td>\n",
       "      <td>1675209602382000</td>\n",
       "      <td>1675209602386776</td>\n",
       "      <td>0.02709</td>\n",
       "      <td>23127.58</td>\n",
       "      <td>23126.75</td>\n",
       "      <td>0.05807</td>\n",
       "    </tr>\n",
       "    <tr>\n",
       "      <th>4</th>\n",
       "      <td>binance</td>\n",
       "      <td>BTCUSDT</td>\n",
       "      <td>1675209602482000</td>\n",
       "      <td>1675209602489723</td>\n",
       "      <td>0.06238</td>\n",
       "      <td>23127.50</td>\n",
       "      <td>23126.60</td>\n",
       "      <td>0.05807</td>\n",
       "    </tr>\n",
       "  </tbody>\n",
       "</table>\n",
       "</div>"
      ],
      "text/plain": [
       "  exchange   symbol         timestamp   local_timestamp  ask_amount   \n",
       "0  binance  BTCUSDT  1675209602162275  1675209602162275     0.00066  \\\n",
       "1  binance  BTCUSDT  1675209602181000  1675209602186622     0.04320   \n",
       "2  binance  BTCUSDT  1675209602281000  1675209602284878     0.00108   \n",
       "3  binance  BTCUSDT  1675209602382000  1675209602386776     0.02709   \n",
       "4  binance  BTCUSDT  1675209602482000  1675209602489723     0.06238   \n",
       "\n",
       "   ask_price  bid_price  bid_amount  \n",
       "0   23126.52   23126.20     0.03000  \n",
       "1   23127.58   23126.11     0.05807  \n",
       "2   23127.57   23126.67     0.03703  \n",
       "3   23127.58   23126.75     0.05807  \n",
       "4   23127.50   23126.60     0.05807  "
      ]
     },
     "execution_count": 11,
     "metadata": {},
     "output_type": "execute_result"
    }
   ],
   "source": [
    "spotquotes.head()"
   ]
  },
  {
   "cell_type": "code",
   "execution_count": 12,
   "id": "d813caf9",
   "metadata": {},
   "outputs": [
    {
     "data": {
      "text/html": [
       "<div>\n",
       "<style scoped>\n",
       "    .dataframe tbody tr th:only-of-type {\n",
       "        vertical-align: middle;\n",
       "    }\n",
       "\n",
       "    .dataframe tbody tr th {\n",
       "        vertical-align: top;\n",
       "    }\n",
       "\n",
       "    .dataframe thead th {\n",
       "        text-align: right;\n",
       "    }\n",
       "</style>\n",
       "<table border=\"1\" class=\"dataframe\">\n",
       "  <thead>\n",
       "    <tr style=\"text-align: right;\">\n",
       "      <th></th>\n",
       "      <th>exchange</th>\n",
       "      <th>symbol</th>\n",
       "      <th>timestamp</th>\n",
       "      <th>local_timestamp</th>\n",
       "      <th>ask_amount</th>\n",
       "      <th>ask_price</th>\n",
       "      <th>bid_price</th>\n",
       "      <th>bid_amount</th>\n",
       "    </tr>\n",
       "  </thead>\n",
       "  <tbody>\n",
       "    <tr>\n",
       "      <th>0</th>\n",
       "      <td>binance-futures</td>\n",
       "      <td>BTCUSDT</td>\n",
       "      <td>1675209600232000</td>\n",
       "      <td>1675209600938091</td>\n",
       "      <td>6.736</td>\n",
       "      <td>23119.5</td>\n",
       "      <td>23119.4</td>\n",
       "      <td>11.939</td>\n",
       "    </tr>\n",
       "    <tr>\n",
       "      <th>1</th>\n",
       "      <td>binance-futures</td>\n",
       "      <td>BTCUSDT</td>\n",
       "      <td>1675209602110000</td>\n",
       "      <td>1675209602113182</td>\n",
       "      <td>6.736</td>\n",
       "      <td>23119.5</td>\n",
       "      <td>23119.4</td>\n",
       "      <td>12.289</td>\n",
       "    </tr>\n",
       "    <tr>\n",
       "      <th>2</th>\n",
       "      <td>binance-futures</td>\n",
       "      <td>BTCUSDT</td>\n",
       "      <td>1675209604939000</td>\n",
       "      <td>1675209604942416</td>\n",
       "      <td>6.736</td>\n",
       "      <td>23119.5</td>\n",
       "      <td>23119.4</td>\n",
       "      <td>12.290</td>\n",
       "    </tr>\n",
       "    <tr>\n",
       "      <th>3</th>\n",
       "      <td>binance-futures</td>\n",
       "      <td>BTCUSDT</td>\n",
       "      <td>1675209605208000</td>\n",
       "      <td>1675209605210812</td>\n",
       "      <td>6.734</td>\n",
       "      <td>23119.5</td>\n",
       "      <td>23119.4</td>\n",
       "      <td>12.290</td>\n",
       "    </tr>\n",
       "    <tr>\n",
       "      <th>4</th>\n",
       "      <td>binance-futures</td>\n",
       "      <td>BTCUSDT</td>\n",
       "      <td>1675209606571000</td>\n",
       "      <td>1675209606576664</td>\n",
       "      <td>6.826</td>\n",
       "      <td>23119.5</td>\n",
       "      <td>23119.4</td>\n",
       "      <td>12.263</td>\n",
       "    </tr>\n",
       "  </tbody>\n",
       "</table>\n",
       "</div>"
      ],
      "text/plain": [
       "          exchange   symbol         timestamp   local_timestamp  ask_amount   \n",
       "0  binance-futures  BTCUSDT  1675209600232000  1675209600938091       6.736  \\\n",
       "1  binance-futures  BTCUSDT  1675209602110000  1675209602113182       6.736   \n",
       "2  binance-futures  BTCUSDT  1675209604939000  1675209604942416       6.736   \n",
       "3  binance-futures  BTCUSDT  1675209605208000  1675209605210812       6.734   \n",
       "4  binance-futures  BTCUSDT  1675209606571000  1675209606576664       6.826   \n",
       "\n",
       "   ask_price  bid_price  bid_amount  \n",
       "0    23119.5    23119.4      11.939  \n",
       "1    23119.5    23119.4      12.289  \n",
       "2    23119.5    23119.4      12.290  \n",
       "3    23119.5    23119.4      12.290  \n",
       "4    23119.5    23119.4      12.263  "
      ]
     },
     "execution_count": 12,
     "metadata": {},
     "output_type": "execute_result"
    }
   ],
   "source": [
    "perpquotes.head()"
   ]
  },
  {
   "cell_type": "code",
   "execution_count": 13,
   "id": "edfe698a",
   "metadata": {
    "tags": []
   },
   "outputs": [
    {
     "data": {
      "text/html": [
       "<div>\n",
       "<style scoped>\n",
       "    .dataframe tbody tr th:only-of-type {\n",
       "        vertical-align: middle;\n",
       "    }\n",
       "\n",
       "    .dataframe tbody tr th {\n",
       "        vertical-align: top;\n",
       "    }\n",
       "\n",
       "    .dataframe thead th {\n",
       "        text-align: right;\n",
       "    }\n",
       "</style>\n",
       "<table border=\"1\" class=\"dataframe\">\n",
       "  <thead>\n",
       "    <tr style=\"text-align: right;\">\n",
       "      <th></th>\n",
       "      <th>exchange</th>\n",
       "      <th>symbol</th>\n",
       "      <th>timestamp</th>\n",
       "      <th>local_timestamp</th>\n",
       "      <th>ask_amount</th>\n",
       "      <th>ask_price</th>\n",
       "      <th>bid_price</th>\n",
       "      <th>bid_amount</th>\n",
       "      <th>bookpressure</th>\n",
       "    </tr>\n",
       "  </thead>\n",
       "  <tbody>\n",
       "    <tr>\n",
       "      <th>0</th>\n",
       "      <td>binance-futures</td>\n",
       "      <td>BTCUSDT</td>\n",
       "      <td>1675209600232000</td>\n",
       "      <td>1675209600938091</td>\n",
       "      <td>6.736</td>\n",
       "      <td>23119.5</td>\n",
       "      <td>23119.4</td>\n",
       "      <td>11.939</td>\n",
       "      <td>Ellipsis</td>\n",
       "    </tr>\n",
       "    <tr>\n",
       "      <th>1</th>\n",
       "      <td>binance-futures</td>\n",
       "      <td>BTCUSDT</td>\n",
       "      <td>1675209602110000</td>\n",
       "      <td>1675209602113182</td>\n",
       "      <td>6.736</td>\n",
       "      <td>23119.5</td>\n",
       "      <td>23119.4</td>\n",
       "      <td>12.289</td>\n",
       "      <td>Ellipsis</td>\n",
       "    </tr>\n",
       "    <tr>\n",
       "      <th>2</th>\n",
       "      <td>binance-futures</td>\n",
       "      <td>BTCUSDT</td>\n",
       "      <td>1675209604939000</td>\n",
       "      <td>1675209604942416</td>\n",
       "      <td>6.736</td>\n",
       "      <td>23119.5</td>\n",
       "      <td>23119.4</td>\n",
       "      <td>12.290</td>\n",
       "      <td>Ellipsis</td>\n",
       "    </tr>\n",
       "    <tr>\n",
       "      <th>3</th>\n",
       "      <td>binance-futures</td>\n",
       "      <td>BTCUSDT</td>\n",
       "      <td>1675209605208000</td>\n",
       "      <td>1675209605210812</td>\n",
       "      <td>6.734</td>\n",
       "      <td>23119.5</td>\n",
       "      <td>23119.4</td>\n",
       "      <td>12.290</td>\n",
       "      <td>Ellipsis</td>\n",
       "    </tr>\n",
       "    <tr>\n",
       "      <th>4</th>\n",
       "      <td>binance-futures</td>\n",
       "      <td>BTCUSDT</td>\n",
       "      <td>1675209606571000</td>\n",
       "      <td>1675209606576664</td>\n",
       "      <td>6.826</td>\n",
       "      <td>23119.5</td>\n",
       "      <td>23119.4</td>\n",
       "      <td>12.263</td>\n",
       "      <td>Ellipsis</td>\n",
       "    </tr>\n",
       "    <tr>\n",
       "      <th>...</th>\n",
       "      <td>...</td>\n",
       "      <td>...</td>\n",
       "      <td>...</td>\n",
       "      <td>...</td>\n",
       "      <td>...</td>\n",
       "      <td>...</td>\n",
       "      <td>...</td>\n",
       "      <td>...</td>\n",
       "      <td>...</td>\n",
       "    </tr>\n",
       "    <tr>\n",
       "      <th>1691147</th>\n",
       "      <td>binance-futures</td>\n",
       "      <td>BTCUSDT</td>\n",
       "      <td>1675295999745000</td>\n",
       "      <td>1675295999748362</td>\n",
       "      <td>0.282</td>\n",
       "      <td>23730.1</td>\n",
       "      <td>23730.0</td>\n",
       "      <td>15.224</td>\n",
       "      <td>Ellipsis</td>\n",
       "    </tr>\n",
       "    <tr>\n",
       "      <th>1691148</th>\n",
       "      <td>binance-futures</td>\n",
       "      <td>BTCUSDT</td>\n",
       "      <td>1675295999778000</td>\n",
       "      <td>1675295999781742</td>\n",
       "      <td>0.282</td>\n",
       "      <td>23730.1</td>\n",
       "      <td>23730.0</td>\n",
       "      <td>15.064</td>\n",
       "      <td>Ellipsis</td>\n",
       "    </tr>\n",
       "    <tr>\n",
       "      <th>1691149</th>\n",
       "      <td>binance-futures</td>\n",
       "      <td>BTCUSDT</td>\n",
       "      <td>1675295999811000</td>\n",
       "      <td>1675295999814567</td>\n",
       "      <td>0.283</td>\n",
       "      <td>23730.1</td>\n",
       "      <td>23730.0</td>\n",
       "      <td>15.064</td>\n",
       "      <td>Ellipsis</td>\n",
       "    </tr>\n",
       "    <tr>\n",
       "      <th>1691150</th>\n",
       "      <td>binance-futures</td>\n",
       "      <td>BTCUSDT</td>\n",
       "      <td>1675295999875000</td>\n",
       "      <td>1675295999879164</td>\n",
       "      <td>0.283</td>\n",
       "      <td>23730.1</td>\n",
       "      <td>23730.0</td>\n",
       "      <td>15.094</td>\n",
       "      <td>Ellipsis</td>\n",
       "    </tr>\n",
       "    <tr>\n",
       "      <th>1691151</th>\n",
       "      <td>binance-futures</td>\n",
       "      <td>BTCUSDT</td>\n",
       "      <td>1675295999908000</td>\n",
       "      <td>1675295999911426</td>\n",
       "      <td>0.283</td>\n",
       "      <td>23730.1</td>\n",
       "      <td>23730.0</td>\n",
       "      <td>15.044</td>\n",
       "      <td>Ellipsis</td>\n",
       "    </tr>\n",
       "  </tbody>\n",
       "</table>\n",
       "<p>1691152 rows × 9 columns</p>\n",
       "</div>"
      ],
      "text/plain": [
       "                exchange   symbol         timestamp   local_timestamp   \n",
       "0        binance-futures  BTCUSDT  1675209600232000  1675209600938091  \\\n",
       "1        binance-futures  BTCUSDT  1675209602110000  1675209602113182   \n",
       "2        binance-futures  BTCUSDT  1675209604939000  1675209604942416   \n",
       "3        binance-futures  BTCUSDT  1675209605208000  1675209605210812   \n",
       "4        binance-futures  BTCUSDT  1675209606571000  1675209606576664   \n",
       "...                  ...      ...               ...               ...   \n",
       "1691147  binance-futures  BTCUSDT  1675295999745000  1675295999748362   \n",
       "1691148  binance-futures  BTCUSDT  1675295999778000  1675295999781742   \n",
       "1691149  binance-futures  BTCUSDT  1675295999811000  1675295999814567   \n",
       "1691150  binance-futures  BTCUSDT  1675295999875000  1675295999879164   \n",
       "1691151  binance-futures  BTCUSDT  1675295999908000  1675295999911426   \n",
       "\n",
       "         ask_amount  ask_price  bid_price  bid_amount bookpressure  \n",
       "0             6.736    23119.5    23119.4      11.939     Ellipsis  \n",
       "1             6.736    23119.5    23119.4      12.289     Ellipsis  \n",
       "2             6.736    23119.5    23119.4      12.290     Ellipsis  \n",
       "3             6.734    23119.5    23119.4      12.290     Ellipsis  \n",
       "4             6.826    23119.5    23119.4      12.263     Ellipsis  \n",
       "...             ...        ...        ...         ...          ...  \n",
       "1691147       0.282    23730.1    23730.0      15.224     Ellipsis  \n",
       "1691148       0.282    23730.1    23730.0      15.064     Ellipsis  \n",
       "1691149       0.283    23730.1    23730.0      15.064     Ellipsis  \n",
       "1691150       0.283    23730.1    23730.0      15.094     Ellipsis  \n",
       "1691151       0.283    23730.1    23730.0      15.044     Ellipsis  \n",
       "\n",
       "[1691152 rows x 9 columns]"
      ]
     },
     "execution_count": 13,
     "metadata": {},
     "output_type": "execute_result"
    }
   ],
   "source": [
    "\n",
    "def bookpressure(quotes):\n",
    "    quotes['bookpressure'] = ...\n",
    "    return quotes\n",
    "    \n",
    "bookpressure(perpquotes)"
   ]
  },
  {
   "cell_type": "code",
   "execution_count": 14,
   "id": "5da12a60",
   "metadata": {
    "tags": []
   },
   "outputs": [],
   "source": [
    "def bookpressure(quotes):\n",
    "    quotes['bookpressure'] = (quotes['ask_amount'] * quotes['bid_price'] + quotes['bid_amount'] * quotes['ask_price'])/(quotes['ask_amount'] + quotes['bid_amount'])\n",
    "    return quotes"
   ]
  },
  {
   "cell_type": "markdown",
   "id": "2e21effe",
   "metadata": {},
   "source": [
    "feel free to play with the below function to visualize the best bid, best offer, and book pressure for the perp and spot books"
   ]
  },
  {
   "cell_type": "code",
   "execution_count": 16,
   "id": "490b6065",
   "metadata": {},
   "outputs": [
    {
     "data": {
      "text/plain": [
       "<Axes: xlabel='timestamp'>"
      ]
     },
     "execution_count": 16,
     "metadata": {},
     "output_type": "execute_result"
    },
    {
     "data": {
      "image/png": "[encoded data removed]",
      "text/plain": [
       "<Figure size 1500x500 with 1 Axes>"
      ]
     },
     "metadata": {},
     "output_type": "display_data"
    }
   ],
   "source": [
    "bookpressure(spotquotes).iloc[300:400,:].set_index('timestamp')[['ask_price', 'bid_price', 'bookpressure']].plot(figsize=(15,5))"
   ]
  },
  {
   "cell_type": "code",
   "execution_count": 17,
   "id": "6e41c3eb",
   "metadata": {},
   "outputs": [
    {
     "data": {
      "text/plain": [
       "<Axes: xlabel='timestamp'>"
      ]
     },
     "execution_count": 17,
     "metadata": {},
     "output_type": "execute_result"
    },
    {
     "data": {
      "image/png": "[encoded data removed]",
      "text/plain": [
       "<Figure size 1500x500 with 1 Axes>"
      ]
     },
     "metadata": {},
     "output_type": "display_data"
    }
   ],
   "source": [
    "bookpressure(perpquotes).iloc[300:400,:].set_index('timestamp')[['ask_price', 'bid_price', 'bookpressure']].plot(figsize=(15,5))"
   ]
  },
  {
   "cell_type": "markdown",
   "id": "ef834411",
   "metadata": {},
   "source": [
    "## Latency Arb"
   ]
  },
  {
   "cell_type": "markdown",
   "id": "13b58030",
   "metadata": {},
   "source": [
    "The Spot BTC and the Perpetual BTC contract should, in theory, be the same price. However, markets are not usually so simple. \n",
    "\n",
    "Imagine that both assets are trading at 22k. Also assume that an informed trader on the perpetual exchange wants to buy a ton of BTC. \n",
    "\n",
    "When she executes the trade, lets pretend that it makes the Perpetual BTC Contract's price move up from 22k to 22.2k. \n",
    "\n",
    "The Perpetual Contract and the Spot BTC both represent the same asset - but their prices are out of whack. \n",
    "\n",
    "Fast traders can take advantage of this momentary dislocation in price, and help re-price the Spot market to the correct price of 22.2k, receiving a profit for this noble service. \n",
    "\n",
    "That's the basic idea behind a latency-based taker strategy, which we will implement a toy example of below"
   ]
  },
  {
   "cell_type": "markdown",
   "id": "63b1aa48",
   "metadata": {},
   "source": [
    "Generally speaking, we expect the perpetual futures market to lead the spot market\n",
    "\n",
    "This means that when the perpetual moves, the spot market usually follows, instead of the other way around. \n",
    "\n",
    "Given this idea, please implement a trading strategy that takes positions based on dislocations in spot and perp BTC pricing.\n",
    "\n",
    "Your goal should be to produce conditions that define when a trading strategy should enter a position, and how much time it should hold the position for\n",
    "\n",
    "Assume no fees, for simplicity. \n",
    "\n",
    "A trade executed can, at most, consume the remaining liquidity available at the best bid or best offer.\n",
    "\n",
    "Assume that you can always exit for your added size \n",
    "\n",
    "For example, if your strategy is meant to add long exposure, the maximum long exposure it can add is the ask amount available at the time"
   ]
  },
  {
   "cell_type": "code",
   "execution_count": 18,
   "id": "25786371",
   "metadata": {},
   "outputs": [],
   "source": [
    "bpspot = bookpressure(spotquotes).set_index('timestamp')\n",
    "bpperp = bookpressure(perpquotes).set_index('timestamp')\n",
    "combinedbp = bpperp.join(bpspot, lsuffix='_perp', rsuffix='_spot')\n",
    "combinedbp[['ask_amount_spot', 'ask_price_spot', 'bid_price_spot', 'bid_amount_spot', 'bookpressure_spot']] = combinedbp[['ask_amount_spot', 'ask_price_spot', 'bid_price_spot', 'bid_amount_spot', 'bookpressure_spot']].ffill()\n",
    "combinedbp[['ask_amount_spot', 'ask_price_spot', 'bid_price_spot', 'bid_amount_spot', 'bookpressure_spot']] = combinedbp[['ask_amount_spot', 'ask_price_spot', 'bid_price_spot', 'bid_amount_spot', 'bookpressure_spot']].bfill()\n",
    "combinedbp['bookpressure_spot'].ffill(inplace=True)\n",
    "combinedbp['bookpressure_spot'].bfill(inplace=True)\n",
    "combinedbp['bookpressure_perp'].ffill(inplace=True)"
   ]
  },
  {
   "cell_type": "code",
   "execution_count": 19,
   "id": "df0b329e",
   "metadata": {},
   "outputs": [],
   "source": [
    "def strategy(combinedbp, buycondition, sellcondition, holdtime, cost=0):\n",
    "    combinedbp['profit'] = 0\n",
    "    combinedbp['cost'] = 0\n",
    "    combinedbp[f'ask_amount_spot_{holdtime}'] = combinedbp['ask_amount_spot'].shift(-holdtime)\n",
    "    combinedbp[f'bid_amount_spot_{holdtime}'] = combinedbp['bid_amount_spot'].shift(-holdtime)\n",
    "    combinedbp[f'ask_price_spot_{holdtime}'] = combinedbp[f'ask_price_spot'].shift(-holdtime)\n",
    "    combinedbp[f'bid_price_spot_{holdtime}'] = combinedbp[f'ask_price_spot'].shift(-holdtime)\n",
    "    buys = combinedbp[buycondition]\n",
    "    buys['profit'] = (buys['ask_price_spot'] - buys[f'bid_price_spot_{holdtime}']) * buys['ask_amount_spot']\n",
    "    buys['cost'] = (cost * buys['bid_amount_spot'])\n",
    "    sells = combinedbp[sellcondition]\n",
    "    sells['profit'] = (sells['bid_price_spot'] - sells[f'ask_price_spot_{holdtime}']) * sells['bid_amount_spot'] \n",
    "    sells['cost'] = (cost * sells['ask_amount_spot'])\n",
    "    \n",
    "    return sells['profit'].fillna(0).sum() + buys['profit'].fillna(0).sum() - buys['cost'].fillna(0).sum() -  sells['cost'].fillna(0).sum()"
   ]
  },
  {
   "cell_type": "code",
   "execution_count": 20,
   "id": "96c72d49",
   "metadata": {},
   "outputs": [
    {
     "data": {
      "text/plain": [
       "-96101.5277244061"
      ]
     },
     "execution_count": 20,
     "metadata": {},
     "output_type": "execute_result"
    }
   ],
   "source": [
    "buycondition = (combinedbp['bookpressure_perp'] > combinedbp['bookpressure_spot'])\n",
    "sellcondition = (combinedbp['bookpressure_perp'] < combinedbp['bookpressure_spot'])\n",
    "strategy(combinedbp, buycondition, sellcondition, holdtime=80, cost=0)"
   ]
  },
  {
   "cell_type": "code",
   "execution_count": 21,
   "id": "1f87d711",
   "metadata": {},
   "outputs": [
    {
     "data": {
      "text/plain": [
       "' # BEGIN PROMPT\\nbuycondition = ...\\nsellcondition = ...\\nstrategy(combinedbp, buycondition, sellcondition, holdtime=80, cost=0)\\n'"
      ]
     },
     "execution_count": 21,
     "metadata": {},
     "output_type": "execute_result"
    }
   ],
   "source": [
    "# BEGIN SOLUTION NO PROMPT\n",
    "buycondition = (combinedbp['bookpressure_perp'] > combinedbp['bookpressure_spot'])\n",
    "sellcondition = (combinedbp['bookpressure_perp'] < combinedbp['bookpressure_spot'])\n",
    "strategy(combinedbp, buycondition, sellcondition, holdtime=80, cost=0)\n",
    "\n",
    "# END SOLUTION\n",
    "\n",
    "\"\"\" # BEGIN PROMPT\n",
    "buycondition = ...\n",
    "sellcondition = ...\n",
    "strategy(combinedbp, buycondition, sellcondition, holdtime=80, cost=0)\n",
    "\"\"\" # END PROMPT"
   ]
  }
 ],
 "metadata": {
  "kernelspec": {
   "display_name": "Python 3 (ipykernel)",
   "language": "python",
   "name": "python3"
  },
  "language_info": {
   "codemirror_mode": {
    "name": "ipython",
    "version": 3
   },
   "file_extension": ".py",
   "mimetype": "text/x-python",
   "name": "python",
   "nbconvert_exporter": "python",
   "pygments_lexer": "ipython3",
   "version": "3.9.15"
  },
  "otter": {
   "OK_FORMAT": true,
   "tests": {
    "q1": {
     "name": "q1",
     "points": 2,
     "suites": [
      {
       "cases": [
        {
         "code": ">>> type(bookstate(spotbook, 1675227824977135)) == pd.core.frame.DataFrame\nTrue",
         "hidden": false,
         "locked": false,
         "points": 0
        },
        {
         "code": ">>> np.isclose(bookstate(spotbook, 1675227824977135)['price'].sum(), 47102798.45)\nTrue",
         "hidden": false,
         "locked": false,
         "points": 0.5
        },
        {
         "code": ">>> np.isclose(bookstate(spotbook, 1675227824977135)['amount'].sum(), 684.6089)\nTrue",
         "hidden": false,
         "locked": false,
         "points": 0.5
        },
        {
         "code": ">>> np.isclose(bookstate(perpbook, 1675227824977135)['price'].sum(), 46202868.39999999)\nTrue",
         "hidden": false,
         "locked": false,
         "points": 0.5
        },
        {
         "code": ">>> np.isclose(bookstate(perpbook, 1675227824977135)['amount'].sum(), 2870.792)\nTrue",
         "hidden": false,
         "locked": false,
         "points": 0.5
        }
       ],
       "scored": true,
       "setup": "",
       "teardown": "",
       "type": "doctest"
      }
     ]
    },
    "q2": {
     "name": "q2",
     "points": 6,
     "suites": [
      {
       "cases": [
        {
         "code": ">>> trade_simulator(bookstate(perpbook, 1675227824977135), tradeside='bid', tradesize=180000, theoreticalvalue=np.inf)==[0,0]\nTrue",
         "hidden": false,
         "locked": false
        },
        {
         "code": ">>> np.isclose(trade_simulator(bookstate(spotbook, 1675227824977135), tradeside='bid', tradesize=6000, theoreticalvalue=23126.02)[0],\n...            23126.07538425416)\nTrue",
         "hidden": false,
         "locked": false,
         "points": 1
        },
        {
         "code": ">>> assert np.isclose(trade_simulator(bookstate(spotbook, 1675227824977135), tradeside='bid', tradesize=6000, theoreticalvalue=23126.02)[1],\n...            5860.3787631000005)\n",
         "hidden": false,
         "locked": false,
         "points": 1
        },
        {
         "code": ">>> np.isclose(trade_simulator(bookstate(perpbook, 1675227824977135), tradeside='ask', tradesize=180000, theoreticalvalue=23120)[1],170922.53069999997)\nTrue",
         "hidden": false,
         "locked": false,
         "points": 1
        },
        {
         "code": ">>> np.isclose(trade_simulator(bookstate(perpbook, 1675227824977135), tradeside='ask', tradesize=180000, theoreticalvalue=23120)[0],23119.509089717045)\nTrue",
         "hidden": false,
         "locked": false,
         "points": 1
        },
        {
         "code": ">>> trade_simulator(bookstate(perpbook, 1675227824977135), tradeside='bid', tradesize=180000, theoreticalvalue=np.inf)==[0,0]\nTrue",
         "hidden": false,
         "locked": false,
         "points": 1
        },
        {
         "code": ">>> trade_simulator(bookstate(perpbook, 1675227824977135), tradeside='ask', tradesize=180000, theoreticalvalue=0)==[0,0]\nTrue",
         "hidden": false,
         "locked": false,
         "points": 1
        }
       ],
       "scored": true,
       "setup": "",
       "teardown": "",
       "type": "doctest"
      }
     ]
    },
    "q3": {
     "name": "q3",
     "points": 2,
     "suites": [
      {
       "cases": [
        {
         "code": ">>> type(bookpressure(spotquotes)) == pd.core.frame.DataFrame\nTrue",
         "hidden": false,
         "locked": false,
         "points": 0
        },
        {
         "code": ">>> type(bookpressure(perpquotes)) == pd.core.frame.DataFrame\nTrue",
         "hidden": false,
         "locked": false,
         "points": 0
        },
        {
         "code": ">>> np.isclose(bookpressure(spotquotes)['bookpressure'].sum(), 18300166877.76798)\nTrue",
         "hidden": false,
         "locked": false,
         "points": 1
        },
        {
         "code": ">>> np.isclose(bookpressure(perpquotes)['bookpressure'].sum(), 39191432670.87871)\nTrue",
         "hidden": false,
         "locked": false,
         "points": 1
        }
       ],
       "scored": true,
       "setup": "",
       "teardown": "",
       "type": "doctest"
      }
     ]
    },
    "q4": {
     "name": "q4",
     "points": 1,
     "suites": [
      {
       "cases": [
        {
         "code": ">>> strategy(combinedbp, buycondition, sellcondition, holdtime=80, cost=0) > -100000\nTrue",
         "hidden": false,
         "locked": false,
         "points": 1
        }
       ],
       "scored": true,
       "setup": "",
       "teardown": "",
       "type": "doctest"
      }
     ]
    }
   }
  },
  "vscode": {
   "interpreter": {
    "hash": "5fdd120e4f6b8c5e38cbf69a30c32ae0dc67177440ec142aa0a03380e6b61412"
   }
  }
 },
 "nbformat": 4,
 "nbformat_minor": 5
}
